{
 "cells": [
  {
   "cell_type": "code",
   "execution_count": null,
   "metadata": {
    "executionInfo": {
     "elapsed": 7784,
     "status": "ok",
     "timestamp": 1666541126670,
     "user": {
      "displayName": "D. Refaeli",
      "userId": "03111920551104935489"
     },
     "user_tz": -180
    },
    "id": "VRjXm7jEpxJv"
   },
   "outputs": [],
   "source": [
    "import sys\n",
    "from pathlib import Path\n",
    "import time\n",
    "\n",
    "import numpy as np\n",
    "import matplotlib.pyplot as plt\n",
    "import seaborn as sns\n",
    "\n",
    "from scipy import stats as spstats\n",
    "import statsmodels.api as sm\n",
    "\n",
    "# pytorch related stuff\n",
    "import torch \n",
    "\n",
    "# SBI related stuff\n",
    "import sbi\n",
    "from sbi.inference import SNPE\n",
    "from sbi import utils as sutils\n",
    "\n",
    "# modules\n",
    "from metrics import HH_metrics as metrics"
   ]
  },
  {
   "cell_type": "code",
   "execution_count": null,
   "metadata": {},
   "outputs": [],
   "source": [
    "sys.path.append('./HH/')"
   ]
  },
  {
   "cell_type": "code",
   "execution_count": null,
   "metadata": {},
   "outputs": [],
   "source": [
    "import hh_cython\n",
    "import utils"
   ]
  },
  {
   "cell_type": "code",
   "execution_count": null,
   "metadata": {},
   "outputs": [],
   "source": [
    "solver = hh_cython.forwardeuler"
   ]
  },
  {
   "cell_type": "markdown",
   "metadata": {
    "id": "RvLqy7A0s1Z8"
   },
   "source": [
    "# Util"
   ]
  },
  {
   "cell_type": "code",
   "execution_count": null,
   "metadata": {
    "executionInfo": {
     "elapsed": 2225,
     "status": "ok",
     "timestamp": 1666541128857,
     "user": {
      "displayName": "D. Refaeli",
      "userId": "03111920551104935489"
     },
     "user_tz": -180
    },
    "id": "iYH2d-dgAa79"
   },
   "outputs": [],
   "source": [
    "itr = 1\n",
    "path = f\"results/HH/{itr}\"\n",
    "Path(f\"{path}/samples\").mkdir(parents=True, exist_ok=True)"
   ]
  },
  {
   "cell_type": "code",
   "execution_count": null,
   "metadata": {
    "executionInfo": {
     "elapsed": 32,
     "status": "ok",
     "timestamp": 1666541128857,
     "user": {
      "displayName": "D. Refaeli",
      "userId": "03111920551104935489"
     },
     "user_tz": -180
    },
    "id": "U6kNheZFs5qR"
   },
   "outputs": [],
   "source": [
    "def save_sample(tensor, name):\n",
    "    Path(f\"{path}/samples\").mkdir(parents=True, exist_ok=True)\n",
    "    torch.save(tensor, f\"{path}/samples/{name}.pt\")\n",
    "\n",
    "def load_sample(name):\n",
    "    sample = torch.load(f\"{path}/samples/{name}.pt\")\n",
    "    return sample"
   ]
  },
  {
   "cell_type": "markdown",
   "metadata": {
    "id": "3zi5iu4j8Ay2"
   },
   "source": [
    "# Simulator (HH model 8D)"
   ]
  },
  {
   "cell_type": "code",
   "execution_count": null,
   "metadata": {},
   "outputs": [],
   "source": [
    "seed = 247\n",
    "torch.manual_seed(seed)\n",
    "np.random.seed(seed)\n",
    "\n",
    "dim_theta = 8\n",
    "dim_x = 13"
   ]
  },
  {
   "cell_type": "code",
   "execution_count": null,
   "metadata": {},
   "outputs": [],
   "source": [
    "class HH:\n",
    "    def __init__(self, init, params, seed=None):\n",
    "        self.state = init\n",
    "        self.params = np.asarray(params)\n",
    "\n",
    "        self.seed = seed\n",
    "        if seed is not None:\n",
    "            hh_cython.seed(seed)\n",
    "            self.rng = np.random.RandomState(seed=seed)\n",
    "        else:\n",
    "            self.rng = np.random.RandomState()\n",
    "\n",
    "    def sim_time(self, dt, t, I, fineness=1, max_n_steps=float('inf')):\n",
    "        \"\"\"Simulates the model for a specified time duration.\"\"\"\n",
    "\n",
    "        hh_cython.setparams(self.params)\n",
    "        tstep = float(dt)\n",
    "\n",
    "        # explictly cast everything to double precision\n",
    "        t = t.astype(np.float64)\n",
    "        I = I.astype(np.float64)\n",
    "        V = np.zeros_like(t).astype(np.float64)  # baseline voltage\n",
    "        V[0] = self.state\n",
    "        n = np.zeros_like(t).astype(np.float64)\n",
    "        m = np.zeros_like(t).astype(np.float64)\n",
    "        h = np.zeros_like(t).astype(np.float64)\n",
    "        p = np.zeros_like(t).astype(np.float64)\n",
    "        q = np.zeros_like(t).astype(np.float64)\n",
    "        r = np.zeros_like(t).astype(np.float64)\n",
    "        u = np.zeros_like(t).astype(np.float64)\n",
    "        r_mat = self.rng.randn(len(t)).astype(np.float64)\n",
    "\n",
    "        solver(t, I, V, m, n, h, p, q, r, u, tstep, r_mat)\n",
    "\n",
    "        return np.array(V).reshape(-1,1)"
   ]
  },
  {
   "cell_type": "code",
   "execution_count": null,
   "metadata": {},
   "outputs": [],
   "source": [
    "true_params, labels_params = utils.obs_params(reduced_model=False)"
   ]
  },
  {
   "cell_type": "code",
   "execution_count": null,
   "metadata": {
    "executionInfo": {
     "elapsed": 32,
     "status": "ok",
     "timestamp": 1666541128859,
     "user": {
      "displayName": "D. Refaeli",
      "userId": "03111920551104935489"
     },
     "user_tz": -180
    },
    "id": "ix0Sp5IpNIav"
   },
   "outputs": [],
   "source": [
    "def syn_current(duration=120, dt=0.01, t_on=10, curr_level=5e-4, seed=None):\n",
    "    duration = duration\n",
    "    t_off = duration - t_on\n",
    "    t = np.arange(0, duration + dt, dt)\n",
    "\n",
    "    # external current\n",
    "    A_soma = np.pi * ((70.0 * 1e-4) ** 2)  # cm2\n",
    "    I = np.zeros_like(t)\n",
    "    I[int(np.round(t_on / dt)) : int(np.round(t_off / dt))] = (\n",
    "        curr_level / A_soma\n",
    "    )  # muA/cm2\n",
    "\n",
    "    return I, t_on, t_off, dt, t, A_soma"
   ]
  },
  {
   "cell_type": "code",
   "execution_count": null,
   "metadata": {
    "executionInfo": {
     "elapsed": 33,
     "status": "ok",
     "timestamp": 1666541128860,
     "user": {
      "displayName": "D. Refaeli",
      "userId": "03111920551104935489"
     },
     "user_tz": -180
    },
    "id": "VhZ4izE3Nf5C"
   },
   "outputs": [],
   "source": [
    "I, t_on, t_off, dt, t, A_soma = syn_current()"
   ]
  },
  {
   "cell_type": "code",
   "execution_count": null,
   "metadata": {
    "colab": {
     "base_uri": "https://localhost:8080/",
     "height": 283
    },
    "executionInfo": {
     "elapsed": 32,
     "status": "ok",
     "timestamp": 1666541128860,
     "user": {
      "displayName": "D. Refaeli",
      "userId": "03111920551104935489"
     },
     "user_tz": -180
    },
    "id": "5P-OHLBciObE",
    "outputId": "5280f41b-2ff0-4a29-eebf-15c36a39546c"
   },
   "outputs": [],
   "source": [
    "plt.plot(I)"
   ]
  },
  {
   "cell_type": "code",
   "execution_count": null,
   "metadata": {},
   "outputs": [],
   "source": [
    "def HHSimulator(init, params, dt, t, I):\n",
    "    hh = HH(init, params.reshape(1,-1))\n",
    "    V = hh.sim_time(dt, t, I)\n",
    "    return V"
   ]
  },
  {
   "cell_type": "code",
   "execution_count": null,
   "metadata": {},
   "outputs": [],
   "source": [
    "init = -70\n",
    "V = HHSimulator(init, true_params, dt, t, I)\n",
    "V.shape"
   ]
  },
  {
   "cell_type": "code",
   "execution_count": null,
   "metadata": {},
   "outputs": [],
   "source": [
    "plt.plot(V)"
   ]
  },
  {
   "cell_type": "code",
   "execution_count": null,
   "metadata": {
    "executionInfo": {
     "elapsed": 26,
     "status": "ok",
     "timestamp": 1666541128861,
     "user": {
      "displayName": "D. Refaeli",
      "userId": "03111920551104935489"
     },
     "user_tz": -180
    },
    "id": "dPEyY5FoNSTv"
   },
   "outputs": [],
   "source": [
    "def calculate_summary_statistics(x):\n",
    "    n_xcorr=5\n",
    "    n_mom=5\n",
    "    n_summary=13\n",
    "\n",
    "    N = x['data'].shape[0]\n",
    "    t = x['time']\n",
    "    dt = x['dt']\n",
    "\n",
    "    # initialise array of spike counts\n",
    "    v = np.array(x['data'])\n",
    "\n",
    "    # put everything to -10 that is below -10 or has negative slope\n",
    "    ind = np.where(v < -10)\n",
    "    v[ind] = -10\n",
    "    ind = np.where(np.diff(v) < 0)\n",
    "    v[ind] = -10\n",
    "\n",
    "    # remaining negative slopes are at spike peaks\n",
    "    ind = np.where(np.diff(v) < 0)\n",
    "    spike_times = np.array(t)[ind]\n",
    "    spike_times_stim = spike_times[(spike_times > t_on) & (spike_times < t_off)]\n",
    "\n",
    "    # number of spikes\n",
    "    if spike_times_stim.shape[0] > 0:\n",
    "        spike_times_stim = spike_times_stim[np.append(1, np.diff(spike_times_stim))>0.5]\n",
    "\n",
    "    # resting potential and std\n",
    "    rest_pot = np.mean(x['data'][t<t_on])\n",
    "    rest_pot_std = np.std(x['data'][int(.9*t_on/dt):int(t_on/dt)])\n",
    "\n",
    "    # auto-correlations\n",
    "    x_on_off = x['data'][(t > t_on) & (t < t_off)]-np.mean(x['data'][(t > t_on) & (t < t_off)])\n",
    "    x_corr_val = np.dot(x_on_off,x_on_off)\n",
    "\n",
    "    xcorr_steps = np.linspace(1./dt,n_xcorr*1./dt,n_xcorr).astype(int)\n",
    "    x_corr_full = np.zeros(n_xcorr)\n",
    "    for ii in range(n_xcorr):\n",
    "        x_on_off_part = np.concatenate((x_on_off[xcorr_steps[ii]:],np.zeros(xcorr_steps[ii])))\n",
    "        x_corr_full[ii] = np.dot(x_on_off,x_on_off_part)\n",
    "\n",
    "    x_corr1 = x_corr_full/x_corr_val\n",
    "\n",
    "    std_pw = np.power(np.std(x['data'][(t > t_on) & (t < t_off)]), np.linspace(3,n_mom,n_mom-2))\n",
    "    std_pw = np.concatenate((np.ones(1),std_pw))\n",
    "    moments = spstats.moment(x['data'][(t > t_on) & (t < t_off)], np.linspace(2,n_mom,n_mom-1))/std_pw\n",
    "\n",
    "    # concatenation of summary statistics\n",
    "    try:\n",
    "        sum_stats_vec = np.concatenate((\n",
    "                np.array([spike_times_stim.shape[0]]),\n",
    "                x_corr1,\n",
    "                np.array([rest_pot,rest_pot_std,np.mean(x['data'][(t > t_on) & (t < t_off)])]),\n",
    "                moments\n",
    "            ))\n",
    "        sum_stats_vec = sum_stats_vec[:n_summary]\n",
    "    except:\n",
    "        return None\n",
    "\n",
    "    return sum_stats_vec"
   ]
  },
  {
   "cell_type": "code",
   "execution_count": null,
   "metadata": {
    "executionInfo": {
     "elapsed": 26,
     "status": "ok",
     "timestamp": 1666541128862,
     "user": {
      "displayName": "D. Refaeli",
      "userId": "03111920551104935489"
     },
     "user_tz": -180
    },
    "id": "zr7qEFXaOFzo"
   },
   "outputs": [],
   "source": [
    "def run_HH_model(params):\n",
    "    # input current, time step\n",
    "    I, t_on, t_off, dt, t, A_soma = syn_current()\n",
    "    t = np.arange(0, len(I), 1)*dt\n",
    "    # initial voltage\n",
    "    V0 = -70\n",
    "    states = HHSimulator(V0, params, dt, t, I)\n",
    "    return dict(data=states.reshape(-1), time=t, dt=dt, I=I.reshape(-1))"
   ]
  },
  {
   "cell_type": "code",
   "execution_count": null,
   "metadata": {
    "executionInfo": {
     "elapsed": 26,
     "status": "ok",
     "timestamp": 1666541128862,
     "user": {
      "displayName": "D. Refaeli",
      "userId": "03111920551104935489"
     },
     "user_tz": -180
    },
    "id": "DRW-VO2zNqkn"
   },
   "outputs": [],
   "source": [
    "def simulator(params):\n",
    "    n = params.shape[0]\n",
    "    sumstats = []\n",
    "    for i in range(n):\n",
    "        obs = run_HH_model(params[i,:])\n",
    "        summstats_i = torch.as_tensor(calculate_summary_statistics(obs))\n",
    "        sumstats.append(summstats_i)\n",
    "    return torch.stack(sumstats)"
   ]
  },
  {
   "cell_type": "code",
   "execution_count": null,
   "metadata": {
    "executionInfo": {
     "elapsed": 26,
     "status": "ok",
     "timestamp": 1666541128863,
     "user": {
      "displayName": "D. Refaeli",
      "userId": "03111920551104935489"
     },
     "user_tz": -180
    },
    "id": "Ls6JUvLAh9Cw"
   },
   "outputs": [],
   "source": [
    "# define prior\n",
    "prior_min = [.5,1e-4,0.05,0.035,3e2,30.0,0.05,35.0]\n",
    "prior_max = [80.,15.,0.15,0.105,9e2,90.0,0.15,105.0]\n",
    "prior = sutils.torchutils.BoxUniform(low=torch.as_tensor(prior_min), high=torch.as_tensor(prior_max))"
   ]
  },
  {
   "cell_type": "code",
   "execution_count": null,
   "metadata": {
    "executionInfo": {
     "elapsed": 1418,
     "status": "ok",
     "timestamp": 1666541130256,
     "user": {
      "displayName": "D. Refaeli",
      "userId": "03111920551104935489"
     },
     "user_tz": -180
    },
    "id": "9CNcmizPjfZZ"
   },
   "outputs": [],
   "source": [
    "results = run_HH_model(true_params)"
   ]
  },
  {
   "cell_type": "code",
   "execution_count": null,
   "metadata": {
    "colab": {
     "base_uri": "https://localhost:8080/",
     "height": 610
    },
    "executionInfo": {
     "elapsed": 530,
     "status": "ok",
     "timestamp": 1666541130782,
     "user": {
      "displayName": "D. Refaeli",
      "userId": "03111920551104935489"
     },
     "user_tz": -180
    },
    "id": "mTh2zm1DjzSg",
    "outputId": "7cddfa65-2aeb-4405-fc17-3a2cbc6eb9eb"
   },
   "outputs": [],
   "source": [
    "plt.plot(results[\"data\"])"
   ]
  },
  {
   "cell_type": "markdown",
   "metadata": {
    "id": "NSWQ4XluzvYT"
   },
   "source": [
    "# Experiments"
   ]
  },
  {
   "cell_type": "code",
   "execution_count": null,
   "metadata": {},
   "outputs": [],
   "source": [
    "true_params"
   ]
  },
  {
   "cell_type": "code",
   "execution_count": null,
   "metadata": {
    "executionInfo": {
     "elapsed": 1175,
     "status": "ok",
     "timestamp": 1666541131948,
     "user": {
      "displayName": "D. Refaeli",
      "userId": "03111920551104935489"
     },
     "user_tz": -180
    },
    "id": "aGCu-qt1cdJD"
   },
   "outputs": [],
   "source": [
    "# observation_trace = run_HH_model(true_params)\n",
    "# x_obs = calculate_summary_statistics(observation_trace)\n",
    "# torch.save(observation_trace, \"observation_trace.pkl\")\n",
    "# torch.save(x_obs, \"x_obs.pkl\")"
   ]
  },
  {
   "cell_type": "code",
   "execution_count": null,
   "metadata": {},
   "outputs": [],
   "source": [
    "observation_trace = torch.load(\"./HH/observation_trace.pkl\")\n",
    "x_obs = torch.load(\"./HH/x_obs.pkl\")"
   ]
  },
  {
   "cell_type": "code",
   "execution_count": null,
   "metadata": {},
   "outputs": [],
   "source": [
    "x_obs"
   ]
  },
  {
   "cell_type": "code",
   "execution_count": null,
   "metadata": {},
   "outputs": [],
   "source": [
    "x_min = torch.tensor([ 0.0000e+00, -1, -1, -1, -1, -1, -1.2e+02,  \n",
    "                      1.0e-03, -1.0e+02,  1.0e-03, -1.0e+01,  2.5e+00, -8.0e+02])\n",
    "x_max = torch.tensor([3.5000e+01, 1, 1, 1, 1, 1, 7.0e+00, \n",
    "                      7.0e+01, 1.2e+01, 1.75e+03, 1.5e+01, 1.75e+02, 2.25e+03])"
   ]
  },
  {
   "cell_type": "code",
   "execution_count": null,
   "metadata": {
    "executionInfo": {
     "elapsed": 369,
     "status": "ok",
     "timestamp": 1666541132312,
     "user": {
      "displayName": "D. Refaeli",
      "userId": "03111920551104935489"
     },
     "user_tz": -180
    },
    "id": "ofWeaaHlyqYw"
   },
   "outputs": [],
   "source": [
    "# define sur-prior\n",
    "sur_prior = sutils.torchutils.BoxUniform(low=x_min, high=x_max) # non informative"
   ]
  },
  {
   "cell_type": "code",
   "execution_count": null,
   "metadata": {},
   "outputs": [],
   "source": [
    "torch.manual_seed(seed)\n",
    "num_runs = 2\n",
    "num_simulations = 10\n",
    "samples_len = [1000, 2500, 5000, 15000, 25000, 50000] # simulation runs budget\n",
    "sl = len(samples_len)\n",
    "results = torch.ones(num_simulations, sl, 4, 4)*float('nan')"
   ]
  },
  {
   "cell_type": "code",
   "execution_count": null,
   "metadata": {},
   "outputs": [],
   "source": [
    "samples_len[0]//num_runs"
   ]
  },
  {
   "cell_type": "code",
   "execution_count": null,
   "metadata": {
    "colab": {
     "background_save": true
    },
    "id": "e39E6Ycu6-db"
   },
   "outputs": [],
   "source": [
    "torch.manual_seed(seed)\n",
    "\n",
    "for i in range(sl):\n",
    "  for j in range(num_simulations):\n",
    "    n = samples_len[i]//num_runs\n",
    "\n",
    "    # regular - mdn\n",
    "    proposal = prior\n",
    "    inference = SNPE(prior, density_estimator='mdn')\n",
    "    for _ in range(num_runs):    \n",
    "      theta = proposal.sample((n,))\n",
    "      x_sim = simulator(theta).to(torch.float32)\n",
    "      density_estimator = inference.append_simulations(theta, x_sim, proposal).train()\n",
    "      posterior = inference.build_posterior(density_estimator)\n",
    "      proposal = posterior.set_default_x(x_obs)\n",
    "\n",
    "    sample_post1 = posterior.sample((1000,), x=x_obs)\n",
    "    save_sample(sample_post1, f\"reg_mdn_{n}_{j}\")\n",
    "    results[j,i,0,:] = metrics(sample_post1, true_params)\n",
    "\n",
    "    # surrogate - mdn\n",
    "    proposal = prior\n",
    "    inference = SNPE(prior, density_estimator='mdn')\n",
    "    for k in range(num_runs):    \n",
    "      theta = proposal.sample((n*num_runs,))\n",
    "      # 1st iteration - use real simulator, and train surrogate\n",
    "      if k==0:  \n",
    "        x_sim = simulator(theta).to(torch.float32)\n",
    "\n",
    "        # train surrogate\n",
    "        inference2 = SNPE(sur_prior, density_estimator='mdn')\n",
    "        density_estimator = inference2.append_simulations(theta=x_sim, x=theta).train() # x and theta switch roles\n",
    "        surrogate = inference2.build_posterior(density_estimator)\n",
    "\n",
    "        # plot sim vs sur\n",
    "        if j==0:\n",
    "          pred = torch.zeros_like(x_sim)\n",
    "          for l in range(len(theta)):\n",
    "            pred[l] = surrogate.sample((1,), x=theta[l,:], show_progress_bars=False)\n",
    "\n",
    "      # Other iterations - use surrogate/emulator instead\n",
    "      else:\n",
    "        x_sim = torch.zeros_like(x_sim)\n",
    "        for l in range(len(theta)):\n",
    "          x_sim[l] = surrogate.sample((1,), x=theta[l,:], show_progress_bars=False)\n",
    "\n",
    "      density_estimator = inference.append_simulations(theta, x_sim, proposal).train()\n",
    "      posterior = inference.build_posterior(density_estimator)\n",
    "      proposal = posterior.set_default_x(x_obs)\n",
    "\n",
    "    sample_post2 = posterior.sample((1000,), x=x_obs)\n",
    "    save_sample(sample_post2, f\"sur_mdn_{n}_{j}\")\n",
    "    results[j,i,1,:] = metrics(sample_post2, true_params)\n",
    "\n",
    "    # regular - nsf\n",
    "    proposal = prior\n",
    "    inference = SNPE(prior, density_estimator='nsf')\n",
    "    for _ in range(num_runs):    \n",
    "      theta = proposal.sample((n,))\n",
    "      x_sim = simulator(theta).to(torch.float32)\n",
    "      density_estimator = inference.append_simulations(theta, x_sim, proposal).train()\n",
    "      posterior = inference.build_posterior(density_estimator)\n",
    "      proposal = posterior.set_default_x(x_obs)\n",
    "\n",
    "    sample_post3 = posterior.sample((1000,), x=x_obs)\n",
    "    save_sample(sample_post3, f\"reg_nsf_{n}_{j}\")\n",
    "    results[j,i,2,:] = metrics(sample_post3, true_params)\n",
    "\n",
    "    # surrogate - nsf\n",
    "    proposal = prior\n",
    "    inference = SNPE(prior, density_estimator='nsf')\n",
    "    for k in range(num_runs):    \n",
    "      theta = proposal.sample((n*num_runs,))\n",
    "      # 1st iteration - use real simulator, and train surrogate\n",
    "      if k==0:  \n",
    "        x_sim = simulator(theta).to(torch.float32)\n",
    "\n",
    "        # train surrogate\n",
    "        inference2 = SNPE(sur_prior, density_estimator='nsf')\n",
    "        density_estimator = inference2.append_simulations(theta=x_sim, x=theta).train() # x and theta switch roles\n",
    "        surrogate = inference2.build_posterior(density_estimator)\n",
    "\n",
    "        # plot sim vs sur\n",
    "        if j==0:\n",
    "          pred = torch.zeros_like(x_sim)\n",
    "          for l in range(len(theta)):\n",
    "            pred[l] = surrogate.sample((1,), x=theta[l,:], show_progress_bars=False)\n",
    "\n",
    "      # Other iterations - use surrogate/emulator instead\n",
    "      else:\n",
    "        x_sim = torch.zeros_like(x_sim)\n",
    "        for l in range(len(theta)):\n",
    "          x_sim[l] = surrogate.sample((1,), x=theta[l,:], show_progress_bars=False)\n",
    "\n",
    "      density_estimator = inference.append_simulations(theta, x_sim, proposal).train()\n",
    "      posterior = inference.build_posterior(density_estimator)\n",
    "      proposal = posterior.set_default_x(x_obs)\n",
    "\n",
    "    sample_post4 = posterior.sample((1000,), x=x_obs)\n",
    "    save_sample(sample_post4, f\"sur_nsf_{n}_{j}\")\n",
    "    results[j,i,3,:] = metrics(sample_post4, true_params)\n",
    "\n",
    "    torch.save(results, f'{path}/results.pkl')\n"
   ]
  },
  {
   "cell_type": "code",
   "execution_count": null,
   "metadata": {
    "id": "-1Pf-TAgKd4n"
   },
   "outputs": [],
   "source": []
  }
 ],
 "metadata": {
  "colab": {
   "authorship_tag": "ABX9TyMTizySk4e42pqGMZmQl1Zi",
   "collapsed_sections": [],
   "mount_file_id": "1V0gFjs_2pNkUDkCUwCuCJrJp42LF5QcH",
   "name": "",
   "version": ""
  },
  "kernelspec": {
   "display_name": "Python 3 (ipykernel)",
   "language": "python",
   "name": "python3"
  },
  "language_info": {
   "codemirror_mode": {
    "name": "ipython",
    "version": 3
   },
   "file_extension": ".py",
   "mimetype": "text/x-python",
   "name": "python",
   "nbconvert_exporter": "python",
   "pygments_lexer": "ipython3",
   "version": "3.8.0"
  }
 },
 "nbformat": 4,
 "nbformat_minor": 4
}
